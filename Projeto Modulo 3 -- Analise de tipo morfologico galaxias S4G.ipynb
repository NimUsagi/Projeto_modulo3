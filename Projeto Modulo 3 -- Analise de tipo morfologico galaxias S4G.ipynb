{
 "cells": [
  {
   "cell_type": "markdown",
   "id": "e2e5f1aa-01c1-4921-ae29-434807d1a606",
   "metadata": {},
   "source": [
    "### Análise de tipo morfológico em galáxias do universo local (Catálogo $S^4G$)\n",
    "\n",
    "Informação importante:\n",
    "\n",
    "A classificação morfológica no catálogo $S^4G$ é feita no ótico e a decomposição (Salo et al. 2015) é no Mid_IR. Talvez isso possa influenciar na classifcação morfológica da galáxia, mas não muda-la totalmente.\n",
    "\n",
    "\n",
    "- Análise Geral\n",
    "\n",
    "Olhando para todas as galáxias do $S^4G$:\n",
    ". Quantas espirais temos? Quantas possuem barra? -- Amostra completa e diferentes cortes de massa \n",
    "\n",
    ". Histograma do tipo morfológico (type) -- Amostra completa e diferentes cortes de massa \n",
    "\n",
    "- Amostra de galáxias que possuem barra na decomposição -- Salo et al. 2015\n",
    "\n",
    ". Tipo morfologico para diferentes cortes de massa -- Todas galaxias nessa amostra possuem barra em sua decomposição, mas quantas são espirais barradas? \n",
    "\n",
    ". Histograma do tipo morfológico (type) \n",
    "\n",
    "\n",
    "- Análise nas galáxias que estudamos a distribuição de massa\n",
    "\n",
    "Essa amostra é bem menor e possui alguns cortes: inclinação < 65 (caracterizar bem a barra -- galáxias muito inclinadas dificultam a determinação de uma barra), possuir barra na decomposição, qualidade de decomposição = 5 (alguns fatores podem afetar a decomposição -- ex: objetos na frente da galáxia). \n",
    "\n",
    ". Tipo morfologico para diferentes cortes de massa -- Além de todas galáxias possuirem componente barra nessa amostra, elas tem boa qualidade de decomposição e inclinação ideal para uma boa determinação da barra. Quantas nessa amostra são espirais barradas?\n",
    "\n",
    ". Histograma do tipo morfológico (type) -- Amostra completa e diferentes cortes de massa \n",
    "\n",
    "\n",
    "-- -- -- -- \n",
    "\n",
    "- Respondendo algumas questões importantes\n",
    " \n",
    ". Ao fazer essa análise sabemos quantas barras recuperamos com a decomposição. Nem toda galáxia com componente barra possui barra? Temos componente barra em galáxias com tipo morfológico que não esperaríamos uma barra? O quanto a componente barra na decomposição é de fato fiel a galáxia possuir ou não barra? \n",
    "\n",
    ". Estamos ficando mais com as SB?\n",
    "\n",
    ". O quanto de barras a decomposição (Salo et al. 2015) recupera? (Quantas galáxias com componente barra são de fato espirais barradas?)\n",
    "\n",
    "\n",
    "-- -- -- -- \n",
    "\n",
    "\n",
    "Descrição da tabela do $S^4G$: https://irsa.ipac.caltech.edu/data/SPITZER/S4G/gator_docs/s4g_colDescriptions.html#type\n",
    "\n",
    "Sobre tipo morfologico: http://leda.univ-lyon1.fr/leda/param/type.html\n"
   ]
  },
  {
   "cell_type": "code",
   "execution_count": 1,
   "id": "71c2bfa3-ca8b-4984-be90-b193a3fe45f8",
   "metadata": {},
   "outputs": [],
   "source": [
    "import numpy as np\n",
    "import pandas as pd\n",
    "import astropy.units as u\n",
    "import matplotlib.pyplot as plt\n",
    "\n",
    "from nim_irgalaxies import analise_espirais"
   ]
  },
  {
   "cell_type": "markdown",
   "id": "895a597c-e8e4-47f0-9f59-d4d40879ba26",
   "metadata": {},
   "source": [
    "Primeiro, vamos abrir nossa tabela já com o formato data frame. Essa tabela é o match entre 3 catálogos. Salo et al. 2015 + IRSA $S^4G$ + Bouquin et al. 2018.\n",
    "\n",
    "Essa tabela possui 4629 linhas para 2352 galáxias. A quantidade extra de linhas se deve ao fato de uma galáxia poder possuir mais de uma componente. Temos uma linha por componente, por isso dependendo da galáxia teremos mais de uma linha para ela.\n",
    "\n",
    "Isso acontece apenas para as primeira colunas, que são da tabela Salo et al. 2015 que fez a decomposição das galáxias do $S^4G$ na banda de $3.6 \\mu m$. Assim temos uma linha para cada componente daquela galáxia. O restante das colunas, os dados nas linhas para uma mesma galáxia são iguais."
   ]
  },
  {
   "cell_type": "code",
   "execution_count": 2,
   "id": "604203d3-1706-4beb-b390-c746a25612cd",
   "metadata": {},
   "outputs": [
    {
     "name": "stderr",
     "output_type": "stream",
     "text": [
      "/home/nimusagi/.local/lib/python3.8/site-packages/IPython/core/interactiveshell.py:3444: DtypeWarning: Columns (0) have mixed types.Specify dtype option on import or set low_memory=False.\n",
      "  exec(code_obj, self.user_global_ns, self.user_ns)\n"
     ]
    }
   ],
   "source": [
    "Salo_S4G = pd.read_csv('Salo15(4629)+IRSA_S4G(2352)+Bouquin18(1931).csv')"
   ]
  },
  {
   "cell_type": "code",
   "execution_count": 3,
   "id": "1385cc3a-912f-4e90-a90a-f7602650f2bd",
   "metadata": {},
   "outputs": [
    {
     "data": {
      "text/html": [
       "<div>\n",
       "<style scoped>\n",
       "    .dataframe tbody tr th:only-of-type {\n",
       "        vertical-align: middle;\n",
       "    }\n",
       "\n",
       "    .dataframe tbody tr th {\n",
       "        vertical-align: top;\n",
       "    }\n",
       "\n",
       "    .dataframe thead th {\n",
       "        text-align: right;\n",
       "    }\n",
       "</style>\n",
       "<table border=\"1\" class=\"dataframe\">\n",
       "  <thead>\n",
       "    <tr style=\"text-align: right;\">\n",
       "      <th></th>\n",
       "      <th>#Seq</th>\n",
       "      <th>Name_1</th>\n",
       "      <th>Mod</th>\n",
       "      <th>Nc</th>\n",
       "      <th>Q</th>\n",
       "      <th>C</th>\n",
       "      <th>Fn</th>\n",
       "      <th>f1</th>\n",
       "      <th>mag1_1</th>\n",
       "      <th>q1</th>\n",
       "      <th>...</th>\n",
       "      <th>Dist</th>\n",
       "      <th>e_Dist</th>\n",
       "      <th>FUVmag</th>\n",
       "      <th>e_FUVmag</th>\n",
       "      <th>NUVmag</th>\n",
       "      <th>e_NUVmag</th>\n",
       "      <th>_3_6mag</th>\n",
       "      <th>GroupID</th>\n",
       "      <th>GroupSize</th>\n",
       "      <th>Separation</th>\n",
       "    </tr>\n",
       "  </thead>\n",
       "  <tbody>\n",
       "    <tr>\n",
       "      <th>0</th>\n",
       "      <td>#0</td>\n",
       "      <td>1</td>\n",
       "      <td>2</td>\n",
       "      <td>3</td>\n",
       "      <td>4</td>\n",
       "      <td>5</td>\n",
       "      <td>6</td>\n",
       "      <td>7.000</td>\n",
       "      <td>8.000</td>\n",
       "      <td>9.000</td>\n",
       "      <td>...</td>\n",
       "      <td>136.0</td>\n",
       "      <td>137.0</td>\n",
       "      <td>138.00</td>\n",
       "      <td>139.00</td>\n",
       "      <td>140.00</td>\n",
       "      <td>141.00</td>\n",
       "      <td>142.000</td>\n",
       "      <td>143.0</td>\n",
       "      <td>144.0</td>\n",
       "      <td>145.000000</td>\n",
       "    </tr>\n",
       "    <tr>\n",
       "      <th>1</th>\n",
       "      <td>1</td>\n",
       "      <td>ESO011-005</td>\n",
       "      <td>_bz</td>\n",
       "      <td>2</td>\n",
       "      <td>4</td>\n",
       "      <td>B</td>\n",
       "      <td>sersic</td>\n",
       "      <td>0.571</td>\n",
       "      <td>14.822</td>\n",
       "      <td>0.354</td>\n",
       "      <td>...</td>\n",
       "      <td>NaN</td>\n",
       "      <td>NaN</td>\n",
       "      <td>NaN</td>\n",
       "      <td>NaN</td>\n",
       "      <td>NaN</td>\n",
       "      <td>NaN</td>\n",
       "      <td>NaN</td>\n",
       "      <td>NaN</td>\n",
       "      <td>NaN</td>\n",
       "      <td>NaN</td>\n",
       "    </tr>\n",
       "    <tr>\n",
       "      <th>2</th>\n",
       "      <td>1</td>\n",
       "      <td>ESO011-005</td>\n",
       "      <td>_bz</td>\n",
       "      <td>2</td>\n",
       "      <td>4</td>\n",
       "      <td>Z</td>\n",
       "      <td>edgedisk</td>\n",
       "      <td>NaN</td>\n",
       "      <td>NaN</td>\n",
       "      <td>NaN</td>\n",
       "      <td>...</td>\n",
       "      <td>NaN</td>\n",
       "      <td>NaN</td>\n",
       "      <td>NaN</td>\n",
       "      <td>NaN</td>\n",
       "      <td>NaN</td>\n",
       "      <td>NaN</td>\n",
       "      <td>NaN</td>\n",
       "      <td>NaN</td>\n",
       "      <td>NaN</td>\n",
       "      <td>NaN</td>\n",
       "    </tr>\n",
       "    <tr>\n",
       "      <th>3</th>\n",
       "      <td>2</td>\n",
       "      <td>ESO012-010</td>\n",
       "      <td>_dbar</td>\n",
       "      <td>2</td>\n",
       "      <td>5</td>\n",
       "      <td>D</td>\n",
       "      <td>expdisk</td>\n",
       "      <td>NaN</td>\n",
       "      <td>NaN</td>\n",
       "      <td>NaN</td>\n",
       "      <td>...</td>\n",
       "      <td>NaN</td>\n",
       "      <td>NaN</td>\n",
       "      <td>NaN</td>\n",
       "      <td>NaN</td>\n",
       "      <td>NaN</td>\n",
       "      <td>NaN</td>\n",
       "      <td>NaN</td>\n",
       "      <td>NaN</td>\n",
       "      <td>NaN</td>\n",
       "      <td>NaN</td>\n",
       "    </tr>\n",
       "    <tr>\n",
       "      <th>4</th>\n",
       "      <td>2</td>\n",
       "      <td>ESO012-010</td>\n",
       "      <td>_dbar</td>\n",
       "      <td>2</td>\n",
       "      <td>5</td>\n",
       "      <td>BAR</td>\n",
       "      <td>ferrer2</td>\n",
       "      <td>NaN</td>\n",
       "      <td>NaN</td>\n",
       "      <td>NaN</td>\n",
       "      <td>...</td>\n",
       "      <td>NaN</td>\n",
       "      <td>NaN</td>\n",
       "      <td>NaN</td>\n",
       "      <td>NaN</td>\n",
       "      <td>NaN</td>\n",
       "      <td>NaN</td>\n",
       "      <td>NaN</td>\n",
       "      <td>NaN</td>\n",
       "      <td>NaN</td>\n",
       "      <td>NaN</td>\n",
       "    </tr>\n",
       "    <tr>\n",
       "      <th>...</th>\n",
       "      <td>...</td>\n",
       "      <td>...</td>\n",
       "      <td>...</td>\n",
       "      <td>...</td>\n",
       "      <td>...</td>\n",
       "      <td>...</td>\n",
       "      <td>...</td>\n",
       "      <td>...</td>\n",
       "      <td>...</td>\n",
       "      <td>...</td>\n",
       "      <td>...</td>\n",
       "      <td>...</td>\n",
       "      <td>...</td>\n",
       "      <td>...</td>\n",
       "      <td>...</td>\n",
       "      <td>...</td>\n",
       "      <td>...</td>\n",
       "      <td>...</td>\n",
       "      <td>...</td>\n",
       "      <td>...</td>\n",
       "      <td>...</td>\n",
       "    </tr>\n",
       "    <tr>\n",
       "      <th>4625</th>\n",
       "      <td>2351</td>\n",
       "      <td>UGC12857</td>\n",
       "      <td>_zzn</td>\n",
       "      <td>3</td>\n",
       "      <td>4</td>\n",
       "      <td>Z</td>\n",
       "      <td>edgedisk</td>\n",
       "      <td>NaN</td>\n",
       "      <td>NaN</td>\n",
       "      <td>NaN</td>\n",
       "      <td>...</td>\n",
       "      <td>36.7</td>\n",
       "      <td>2.5</td>\n",
       "      <td>16.72</td>\n",
       "      <td>0.01</td>\n",
       "      <td>16.29</td>\n",
       "      <td>0.01</td>\n",
       "      <td>13.086</td>\n",
       "      <td>1454.0</td>\n",
       "      <td>3.0</td>\n",
       "      <td>0.053437</td>\n",
       "    </tr>\n",
       "    <tr>\n",
       "      <th>4626</th>\n",
       "      <td>2351</td>\n",
       "      <td>UGC12857</td>\n",
       "      <td>_zzn</td>\n",
       "      <td>3</td>\n",
       "      <td>4</td>\n",
       "      <td>Z</td>\n",
       "      <td>edgedisk</td>\n",
       "      <td>NaN</td>\n",
       "      <td>NaN</td>\n",
       "      <td>NaN</td>\n",
       "      <td>...</td>\n",
       "      <td>36.7</td>\n",
       "      <td>2.5</td>\n",
       "      <td>16.72</td>\n",
       "      <td>0.01</td>\n",
       "      <td>16.29</td>\n",
       "      <td>0.01</td>\n",
       "      <td>13.086</td>\n",
       "      <td>1454.0</td>\n",
       "      <td>3.0</td>\n",
       "      <td>0.053437</td>\n",
       "    </tr>\n",
       "    <tr>\n",
       "      <th>4627</th>\n",
       "      <td>2351</td>\n",
       "      <td>UGC12857</td>\n",
       "      <td>_zzn</td>\n",
       "      <td>3</td>\n",
       "      <td>4</td>\n",
       "      <td>N</td>\n",
       "      <td>psf</td>\n",
       "      <td>NaN</td>\n",
       "      <td>NaN</td>\n",
       "      <td>NaN</td>\n",
       "      <td>...</td>\n",
       "      <td>36.7</td>\n",
       "      <td>2.5</td>\n",
       "      <td>16.72</td>\n",
       "      <td>0.01</td>\n",
       "      <td>16.29</td>\n",
       "      <td>0.01</td>\n",
       "      <td>13.086</td>\n",
       "      <td>1454.0</td>\n",
       "      <td>3.0</td>\n",
       "      <td>0.053437</td>\n",
       "    </tr>\n",
       "    <tr>\n",
       "      <th>4628</th>\n",
       "      <td>2352</td>\n",
       "      <td>UGC12893</td>\n",
       "      <td>_bd</td>\n",
       "      <td>2</td>\n",
       "      <td>5</td>\n",
       "      <td>B</td>\n",
       "      <td>sersic</td>\n",
       "      <td>0.021</td>\n",
       "      <td>17.826</td>\n",
       "      <td>0.786</td>\n",
       "      <td>...</td>\n",
       "      <td>NaN</td>\n",
       "      <td>NaN</td>\n",
       "      <td>NaN</td>\n",
       "      <td>NaN</td>\n",
       "      <td>NaN</td>\n",
       "      <td>NaN</td>\n",
       "      <td>NaN</td>\n",
       "      <td>NaN</td>\n",
       "      <td>NaN</td>\n",
       "      <td>NaN</td>\n",
       "    </tr>\n",
       "    <tr>\n",
       "      <th>4629</th>\n",
       "      <td>2352</td>\n",
       "      <td>UGC12893</td>\n",
       "      <td>_bd</td>\n",
       "      <td>2</td>\n",
       "      <td>5</td>\n",
       "      <td>D</td>\n",
       "      <td>expdisk</td>\n",
       "      <td>NaN</td>\n",
       "      <td>NaN</td>\n",
       "      <td>NaN</td>\n",
       "      <td>...</td>\n",
       "      <td>NaN</td>\n",
       "      <td>NaN</td>\n",
       "      <td>NaN</td>\n",
       "      <td>NaN</td>\n",
       "      <td>NaN</td>\n",
       "      <td>NaN</td>\n",
       "      <td>NaN</td>\n",
       "      <td>NaN</td>\n",
       "      <td>NaN</td>\n",
       "      <td>NaN</td>\n",
       "    </tr>\n",
       "  </tbody>\n",
       "</table>\n",
       "<p>4630 rows × 146 columns</p>\n",
       "</div>"
      ],
      "text/plain": [
       "      #Seq      Name_1    Mod  Nc  Q     C        Fn     f1  mag1_1     q1  \\\n",
       "0       #0           1      2   3  4     5         6  7.000   8.000  9.000   \n",
       "1        1  ESO011-005    _bz   2  4     B    sersic  0.571  14.822  0.354   \n",
       "2        1  ESO011-005    _bz   2  4     Z  edgedisk    NaN     NaN    NaN   \n",
       "3        2  ESO012-010  _dbar   2  5     D   expdisk    NaN     NaN    NaN   \n",
       "4        2  ESO012-010  _dbar   2  5   BAR   ferrer2    NaN     NaN    NaN   \n",
       "...    ...         ...    ...  .. ..   ...       ...    ...     ...    ...   \n",
       "4625  2351    UGC12857   _zzn   3  4     Z  edgedisk    NaN     NaN    NaN   \n",
       "4626  2351    UGC12857   _zzn   3  4     Z  edgedisk    NaN     NaN    NaN   \n",
       "4627  2351    UGC12857   _zzn   3  4     N       psf    NaN     NaN    NaN   \n",
       "4628  2352    UGC12893    _bd   2  5     B    sersic  0.021  17.826  0.786   \n",
       "4629  2352    UGC12893    _bd   2  5     D   expdisk    NaN     NaN    NaN   \n",
       "\n",
       "      ...   Dist  e_Dist  FUVmag  e_FUVmag  NUVmag  e_NUVmag  _3_6mag  \\\n",
       "0     ...  136.0   137.0  138.00    139.00  140.00    141.00  142.000   \n",
       "1     ...    NaN     NaN     NaN       NaN     NaN       NaN      NaN   \n",
       "2     ...    NaN     NaN     NaN       NaN     NaN       NaN      NaN   \n",
       "3     ...    NaN     NaN     NaN       NaN     NaN       NaN      NaN   \n",
       "4     ...    NaN     NaN     NaN       NaN     NaN       NaN      NaN   \n",
       "...   ...    ...     ...     ...       ...     ...       ...      ...   \n",
       "4625  ...   36.7     2.5   16.72      0.01   16.29      0.01   13.086   \n",
       "4626  ...   36.7     2.5   16.72      0.01   16.29      0.01   13.086   \n",
       "4627  ...   36.7     2.5   16.72      0.01   16.29      0.01   13.086   \n",
       "4628  ...    NaN     NaN     NaN       NaN     NaN       NaN      NaN   \n",
       "4629  ...    NaN     NaN     NaN       NaN     NaN       NaN      NaN   \n",
       "\n",
       "      GroupID  GroupSize  Separation  \n",
       "0       143.0      144.0  145.000000  \n",
       "1         NaN        NaN         NaN  \n",
       "2         NaN        NaN         NaN  \n",
       "3         NaN        NaN         NaN  \n",
       "4         NaN        NaN         NaN  \n",
       "...       ...        ...         ...  \n",
       "4625   1454.0        3.0    0.053437  \n",
       "4626   1454.0        3.0    0.053437  \n",
       "4627   1454.0        3.0    0.053437  \n",
       "4628      NaN        NaN         NaN  \n",
       "4629      NaN        NaN         NaN  \n",
       "\n",
       "[4630 rows x 146 columns]"
      ]
     },
     "execution_count": 3,
     "metadata": {},
     "output_type": "execute_result"
    }
   ],
   "source": [
    "Salo_S4G  #Aqui podemos visualizar o que foi dito. A primeira galáxia possui 2 componentes (bojo e edgedisk)\n",
    "#Para a as colunas dedicadas aos dados do bojo, temos dados. As restantes, teremos NaN.\n",
    "#O mesmo ocorre com o edgedisk"
   ]
  },
  {
   "cell_type": "code",
   "execution_count": 4,
   "id": "6e7351ea-95dc-428c-87ed-c948c0902337",
   "metadata": {},
   "outputs": [
    {
     "name": "stdout",
     "output_type": "stream",
     "text": [
      "4630 4614\n"
     ]
    }
   ],
   "source": [
    "#Para a tabela Salo_S4G -- Nossas colunas de interesse são: \n",
    "Colunas_interesse = Salo_S4G[['Name_1','Mod','Q','C','mstar','type','t_1','incl']] #Escolhendo essas colunas \n",
    "\n",
    "#Tirando os NaNs das colunas que precisamos ter valores\n",
    "s4g_nonan = Colunas_interesse.dropna(subset = ['mstar' ,'type', 't_1','incl'])\n",
    "\n",
    "print(len(Colunas_interesse),len(s4g_nonan)) #Quantas linhas temos antes de tirar as linhas duplicadas"
   ]
  },
  {
   "cell_type": "code",
   "execution_count": 5,
   "id": "e2caf337-e33a-4f1a-a2e1-ee18b3aac76a",
   "metadata": {},
   "outputs": [
    {
     "data": {
      "text/html": [
       "<div>\n",
       "<style scoped>\n",
       "    .dataframe tbody tr th:only-of-type {\n",
       "        vertical-align: middle;\n",
       "    }\n",
       "\n",
       "    .dataframe tbody tr th {\n",
       "        vertical-align: top;\n",
       "    }\n",
       "\n",
       "    .dataframe thead th {\n",
       "        text-align: right;\n",
       "    }\n",
       "</style>\n",
       "<table border=\"1\" class=\"dataframe\">\n",
       "  <thead>\n",
       "    <tr style=\"text-align: right;\">\n",
       "      <th></th>\n",
       "      <th>Name_1</th>\n",
       "      <th>Mod</th>\n",
       "      <th>Q</th>\n",
       "      <th>C</th>\n",
       "      <th>mstar</th>\n",
       "      <th>type</th>\n",
       "      <th>t_1</th>\n",
       "      <th>incl</th>\n",
       "    </tr>\n",
       "  </thead>\n",
       "  <tbody>\n",
       "    <tr>\n",
       "      <th>0</th>\n",
       "      <td>1</td>\n",
       "      <td>2</td>\n",
       "      <td>4</td>\n",
       "      <td>5</td>\n",
       "      <td>62.000</td>\n",
       "      <td>68</td>\n",
       "      <td>73.0</td>\n",
       "      <td>109.00</td>\n",
       "    </tr>\n",
       "    <tr>\n",
       "      <th>1</th>\n",
       "      <td>ESO011-005</td>\n",
       "      <td>_bz</td>\n",
       "      <td>4</td>\n",
       "      <td>B</td>\n",
       "      <td>9.749</td>\n",
       "      <td>SBc</td>\n",
       "      <td>5.9</td>\n",
       "      <td>83.91</td>\n",
       "    </tr>\n",
       "    <tr>\n",
       "      <th>2</th>\n",
       "      <td>ESO011-005</td>\n",
       "      <td>_bz</td>\n",
       "      <td>4</td>\n",
       "      <td>Z</td>\n",
       "      <td>9.749</td>\n",
       "      <td>SBc</td>\n",
       "      <td>5.9</td>\n",
       "      <td>83.91</td>\n",
       "    </tr>\n",
       "    <tr>\n",
       "      <th>3</th>\n",
       "      <td>ESO012-010</td>\n",
       "      <td>_dbar</td>\n",
       "      <td>5</td>\n",
       "      <td>D</td>\n",
       "      <td>9.632</td>\n",
       "      <td>SBd</td>\n",
       "      <td>7.7</td>\n",
       "      <td>26.82</td>\n",
       "    </tr>\n",
       "    <tr>\n",
       "      <th>4</th>\n",
       "      <td>ESO012-010</td>\n",
       "      <td>_dbar</td>\n",
       "      <td>5</td>\n",
       "      <td>BAR</td>\n",
       "      <td>9.632</td>\n",
       "      <td>SBd</td>\n",
       "      <td>7.7</td>\n",
       "      <td>26.82</td>\n",
       "    </tr>\n",
       "    <tr>\n",
       "      <th>...</th>\n",
       "      <td>...</td>\n",
       "      <td>...</td>\n",
       "      <td>...</td>\n",
       "      <td>...</td>\n",
       "      <td>...</td>\n",
       "      <td>...</td>\n",
       "      <td>...</td>\n",
       "      <td>...</td>\n",
       "    </tr>\n",
       "    <tr>\n",
       "      <th>4625</th>\n",
       "      <td>UGC12857</td>\n",
       "      <td>_zzn</td>\n",
       "      <td>4</td>\n",
       "      <td>Z</td>\n",
       "      <td>10.005</td>\n",
       "      <td>Sbc</td>\n",
       "      <td>4.0</td>\n",
       "      <td>90.00</td>\n",
       "    </tr>\n",
       "    <tr>\n",
       "      <th>4626</th>\n",
       "      <td>UGC12857</td>\n",
       "      <td>_zzn</td>\n",
       "      <td>4</td>\n",
       "      <td>Z</td>\n",
       "      <td>10.005</td>\n",
       "      <td>Sbc</td>\n",
       "      <td>4.0</td>\n",
       "      <td>90.00</td>\n",
       "    </tr>\n",
       "    <tr>\n",
       "      <th>4627</th>\n",
       "      <td>UGC12857</td>\n",
       "      <td>_zzn</td>\n",
       "      <td>4</td>\n",
       "      <td>N</td>\n",
       "      <td>10.005</td>\n",
       "      <td>Sbc</td>\n",
       "      <td>4.0</td>\n",
       "      <td>90.00</td>\n",
       "    </tr>\n",
       "    <tr>\n",
       "      <th>4628</th>\n",
       "      <td>UGC12893</td>\n",
       "      <td>_bd</td>\n",
       "      <td>5</td>\n",
       "      <td>B</td>\n",
       "      <td>8.991</td>\n",
       "      <td>Sd</td>\n",
       "      <td>8.4</td>\n",
       "      <td>29.49</td>\n",
       "    </tr>\n",
       "    <tr>\n",
       "      <th>4629</th>\n",
       "      <td>UGC12893</td>\n",
       "      <td>_bd</td>\n",
       "      <td>5</td>\n",
       "      <td>D</td>\n",
       "      <td>8.991</td>\n",
       "      <td>Sd</td>\n",
       "      <td>8.4</td>\n",
       "      <td>29.49</td>\n",
       "    </tr>\n",
       "  </tbody>\n",
       "</table>\n",
       "<p>4614 rows × 8 columns</p>\n",
       "</div>"
      ],
      "text/plain": [
       "          Name_1    Mod  Q     C   mstar  type   t_1    incl\n",
       "0              1      2  4     5  62.000    68  73.0  109.00\n",
       "1     ESO011-005    _bz  4     B   9.749   SBc   5.9   83.91\n",
       "2     ESO011-005    _bz  4     Z   9.749   SBc   5.9   83.91\n",
       "3     ESO012-010  _dbar  5     D   9.632   SBd   7.7   26.82\n",
       "4     ESO012-010  _dbar  5   BAR   9.632   SBd   7.7   26.82\n",
       "...          ...    ... ..   ...     ...   ...   ...     ...\n",
       "4625    UGC12857   _zzn  4     Z  10.005   Sbc   4.0   90.00\n",
       "4626    UGC12857   _zzn  4     Z  10.005   Sbc   4.0   90.00\n",
       "4627    UGC12857   _zzn  4     N  10.005   Sbc   4.0   90.00\n",
       "4628    UGC12893    _bd  5     B   8.991    Sd   8.4   29.49\n",
       "4629    UGC12893    _bd  5     D   8.991    Sd   8.4   29.49\n",
       "\n",
       "[4614 rows x 8 columns]"
      ]
     },
     "execution_count": 5,
     "metadata": {},
     "output_type": "execute_result"
    }
   ],
   "source": [
    "s4g_nonan #Agora temos apenas as colunas que de fato são úteis para essa análise"
   ]
  },
  {
   "cell_type": "code",
   "execution_count": 6,
   "id": "7943668e-56fd-444d-9855-7d2d6d113e09",
   "metadata": {},
   "outputs": [],
   "source": [
    "s4g_comps = s4g_nonan.drop(index=0) #Removendo a primeira linha, que é apenas um indice que eu uso para me\n",
    "#orientar com as colunas na tabela completa, pois são muitas colunas\n",
    "\n",
    "s4g_2267 = s4g_comps.drop_duplicates(subset='Name_1') #2268"
   ]
  },
  {
   "cell_type": "markdown",
   "id": "41b13fb7-3fbd-40a7-b570-770b0ee27111",
   "metadata": {},
   "source": [
    "Acima temos duas tabelas. Uma preserva as componentes que serão uteis na análise. A outra pega apenas uma linha por galáxia para não termos dados duplicados. "
   ]
  },
  {
   "cell_type": "code",
   "execution_count": 7,
   "id": "597ff240-ff3b-4397-83e0-a0b7fac5927f",
   "metadata": {},
   "outputs": [
    {
     "data": {
      "text/html": [
       "<div>\n",
       "<style scoped>\n",
       "    .dataframe tbody tr th:only-of-type {\n",
       "        vertical-align: middle;\n",
       "    }\n",
       "\n",
       "    .dataframe tbody tr th {\n",
       "        vertical-align: top;\n",
       "    }\n",
       "\n",
       "    .dataframe thead th {\n",
       "        text-align: right;\n",
       "    }\n",
       "</style>\n",
       "<table border=\"1\" class=\"dataframe\">\n",
       "  <thead>\n",
       "    <tr style=\"text-align: right;\">\n",
       "      <th></th>\n",
       "      <th>Name_1</th>\n",
       "      <th>Mod</th>\n",
       "      <th>Q</th>\n",
       "      <th>C</th>\n",
       "      <th>mstar</th>\n",
       "      <th>type</th>\n",
       "      <th>t_1</th>\n",
       "      <th>incl</th>\n",
       "    </tr>\n",
       "  </thead>\n",
       "  <tbody>\n",
       "    <tr>\n",
       "      <th>1</th>\n",
       "      <td>ESO011-005</td>\n",
       "      <td>_bz</td>\n",
       "      <td>4</td>\n",
       "      <td>B</td>\n",
       "      <td>9.749</td>\n",
       "      <td>SBc</td>\n",
       "      <td>5.9</td>\n",
       "      <td>83.91</td>\n",
       "    </tr>\n",
       "    <tr>\n",
       "      <th>2</th>\n",
       "      <td>ESO011-005</td>\n",
       "      <td>_bz</td>\n",
       "      <td>4</td>\n",
       "      <td>Z</td>\n",
       "      <td>9.749</td>\n",
       "      <td>SBc</td>\n",
       "      <td>5.9</td>\n",
       "      <td>83.91</td>\n",
       "    </tr>\n",
       "    <tr>\n",
       "      <th>3</th>\n",
       "      <td>ESO012-010</td>\n",
       "      <td>_dbar</td>\n",
       "      <td>5</td>\n",
       "      <td>D</td>\n",
       "      <td>9.632</td>\n",
       "      <td>SBd</td>\n",
       "      <td>7.7</td>\n",
       "      <td>26.82</td>\n",
       "    </tr>\n",
       "    <tr>\n",
       "      <th>4</th>\n",
       "      <td>ESO012-010</td>\n",
       "      <td>_dbar</td>\n",
       "      <td>5</td>\n",
       "      <td>BAR</td>\n",
       "      <td>9.632</td>\n",
       "      <td>SBd</td>\n",
       "      <td>7.7</td>\n",
       "      <td>26.82</td>\n",
       "    </tr>\n",
       "    <tr>\n",
       "      <th>5</th>\n",
       "      <td>ESO012-014</td>\n",
       "      <td>_dbar</td>\n",
       "      <td>4</td>\n",
       "      <td>D</td>\n",
       "      <td>9.023</td>\n",
       "      <td>SBm</td>\n",
       "      <td>9.0</td>\n",
       "      <td>90.00</td>\n",
       "    </tr>\n",
       "    <tr>\n",
       "      <th>...</th>\n",
       "      <td>...</td>\n",
       "      <td>...</td>\n",
       "      <td>...</td>\n",
       "      <td>...</td>\n",
       "      <td>...</td>\n",
       "      <td>...</td>\n",
       "      <td>...</td>\n",
       "      <td>...</td>\n",
       "    </tr>\n",
       "    <tr>\n",
       "      <th>4625</th>\n",
       "      <td>UGC12857</td>\n",
       "      <td>_zzn</td>\n",
       "      <td>4</td>\n",
       "      <td>Z</td>\n",
       "      <td>10.005</td>\n",
       "      <td>Sbc</td>\n",
       "      <td>4.0</td>\n",
       "      <td>90.00</td>\n",
       "    </tr>\n",
       "    <tr>\n",
       "      <th>4626</th>\n",
       "      <td>UGC12857</td>\n",
       "      <td>_zzn</td>\n",
       "      <td>4</td>\n",
       "      <td>Z</td>\n",
       "      <td>10.005</td>\n",
       "      <td>Sbc</td>\n",
       "      <td>4.0</td>\n",
       "      <td>90.00</td>\n",
       "    </tr>\n",
       "    <tr>\n",
       "      <th>4627</th>\n",
       "      <td>UGC12857</td>\n",
       "      <td>_zzn</td>\n",
       "      <td>4</td>\n",
       "      <td>N</td>\n",
       "      <td>10.005</td>\n",
       "      <td>Sbc</td>\n",
       "      <td>4.0</td>\n",
       "      <td>90.00</td>\n",
       "    </tr>\n",
       "    <tr>\n",
       "      <th>4628</th>\n",
       "      <td>UGC12893</td>\n",
       "      <td>_bd</td>\n",
       "      <td>5</td>\n",
       "      <td>B</td>\n",
       "      <td>8.991</td>\n",
       "      <td>Sd</td>\n",
       "      <td>8.4</td>\n",
       "      <td>29.49</td>\n",
       "    </tr>\n",
       "    <tr>\n",
       "      <th>4629</th>\n",
       "      <td>UGC12893</td>\n",
       "      <td>_bd</td>\n",
       "      <td>5</td>\n",
       "      <td>D</td>\n",
       "      <td>8.991</td>\n",
       "      <td>Sd</td>\n",
       "      <td>8.4</td>\n",
       "      <td>29.49</td>\n",
       "    </tr>\n",
       "  </tbody>\n",
       "</table>\n",
       "<p>4613 rows × 8 columns</p>\n",
       "</div>"
      ],
      "text/plain": [
       "          Name_1    Mod  Q    C   mstar type  t_1   incl\n",
       "1     ESO011-005    _bz  4    B   9.749  SBc  5.9  83.91\n",
       "2     ESO011-005    _bz  4    Z   9.749  SBc  5.9  83.91\n",
       "3     ESO012-010  _dbar  5    D   9.632  SBd  7.7  26.82\n",
       "4     ESO012-010  _dbar  5  BAR   9.632  SBd  7.7  26.82\n",
       "5     ESO012-014  _dbar  4    D   9.023  SBm  9.0  90.00\n",
       "...          ...    ... ..  ...     ...  ...  ...    ...\n",
       "4625    UGC12857   _zzn  4    Z  10.005  Sbc  4.0  90.00\n",
       "4626    UGC12857   _zzn  4    Z  10.005  Sbc  4.0  90.00\n",
       "4627    UGC12857   _zzn  4    N  10.005  Sbc  4.0  90.00\n",
       "4628    UGC12893    _bd  5    B   8.991   Sd  8.4  29.49\n",
       "4629    UGC12893    _bd  5    D   8.991   Sd  8.4  29.49\n",
       "\n",
       "[4613 rows x 8 columns]"
      ]
     },
     "execution_count": 7,
     "metadata": {},
     "output_type": "execute_result"
    }
   ],
   "source": [
    "s4g_comps \n",
    "# a coluna Mod possui o modelo de decomposição final. \n",
    "# a coluna Q contem informação sobre a qualidade da decomposição. Essa varia de 1 - 5. várias coisas podem \n",
    "# afetar a decomposição, como por exemplo objetos na frente da galáxia.\n",
    "# a coluna C é a componente da linha. ex: B - bojo, Z - edgedisk, D - disk, BAR - barra... "
   ]
  },
  {
   "cell_type": "code",
   "execution_count": 8,
   "id": "d06f2a9c-2a7a-405b-9635-6cd49fc54de0",
   "metadata": {},
   "outputs": [
    {
     "data": {
      "text/html": [
       "<div>\n",
       "<style scoped>\n",
       "    .dataframe tbody tr th:only-of-type {\n",
       "        vertical-align: middle;\n",
       "    }\n",
       "\n",
       "    .dataframe tbody tr th {\n",
       "        vertical-align: top;\n",
       "    }\n",
       "\n",
       "    .dataframe thead th {\n",
       "        text-align: right;\n",
       "    }\n",
       "</style>\n",
       "<table border=\"1\" class=\"dataframe\">\n",
       "  <thead>\n",
       "    <tr style=\"text-align: right;\">\n",
       "      <th></th>\n",
       "      <th>Name_1</th>\n",
       "      <th>Mod</th>\n",
       "      <th>Q</th>\n",
       "      <th>C</th>\n",
       "      <th>mstar</th>\n",
       "      <th>type</th>\n",
       "      <th>t_1</th>\n",
       "      <th>incl</th>\n",
       "    </tr>\n",
       "  </thead>\n",
       "  <tbody>\n",
       "    <tr>\n",
       "      <th>1</th>\n",
       "      <td>ESO011-005</td>\n",
       "      <td>_bz</td>\n",
       "      <td>4</td>\n",
       "      <td>B</td>\n",
       "      <td>9.749</td>\n",
       "      <td>SBc</td>\n",
       "      <td>5.9</td>\n",
       "      <td>83.91</td>\n",
       "    </tr>\n",
       "    <tr>\n",
       "      <th>3</th>\n",
       "      <td>ESO012-010</td>\n",
       "      <td>_dbar</td>\n",
       "      <td>5</td>\n",
       "      <td>D</td>\n",
       "      <td>9.632</td>\n",
       "      <td>SBd</td>\n",
       "      <td>7.7</td>\n",
       "      <td>26.82</td>\n",
       "    </tr>\n",
       "    <tr>\n",
       "      <th>5</th>\n",
       "      <td>ESO012-014</td>\n",
       "      <td>_dbar</td>\n",
       "      <td>4</td>\n",
       "      <td>D</td>\n",
       "      <td>9.023</td>\n",
       "      <td>SBm</td>\n",
       "      <td>9.0</td>\n",
       "      <td>90.00</td>\n",
       "    </tr>\n",
       "    <tr>\n",
       "      <th>7</th>\n",
       "      <td>ESO013-016</td>\n",
       "      <td>_dbarf</td>\n",
       "      <td>5</td>\n",
       "      <td>D</td>\n",
       "      <td>9.564</td>\n",
       "      <td>SBd</td>\n",
       "      <td>7.5</td>\n",
       "      <td>56.71</td>\n",
       "    </tr>\n",
       "    <tr>\n",
       "      <th>9</th>\n",
       "      <td>ESO015-001</td>\n",
       "      <td>_dbar</td>\n",
       "      <td>5</td>\n",
       "      <td>D</td>\n",
       "      <td>8.806</td>\n",
       "      <td>IB</td>\n",
       "      <td>9.8</td>\n",
       "      <td>90.00</td>\n",
       "    </tr>\n",
       "    <tr>\n",
       "      <th>...</th>\n",
       "      <td>...</td>\n",
       "      <td>...</td>\n",
       "      <td>...</td>\n",
       "      <td>...</td>\n",
       "      <td>...</td>\n",
       "      <td>...</td>\n",
       "      <td>...</td>\n",
       "      <td>...</td>\n",
       "    </tr>\n",
       "    <tr>\n",
       "      <th>4621</th>\n",
       "      <td>UGC12791</td>\n",
       "      <td>_d</td>\n",
       "      <td>5</td>\n",
       "      <td>D</td>\n",
       "      <td>8.190</td>\n",
       "      <td>I</td>\n",
       "      <td>9.9</td>\n",
       "      <td>90.00</td>\n",
       "    </tr>\n",
       "    <tr>\n",
       "      <th>4622</th>\n",
       "      <td>UGC12846</td>\n",
       "      <td>_d</td>\n",
       "      <td>5</td>\n",
       "      <td>D</td>\n",
       "      <td>8.687</td>\n",
       "      <td>SABm</td>\n",
       "      <td>8.7</td>\n",
       "      <td>25.66</td>\n",
       "    </tr>\n",
       "    <tr>\n",
       "      <th>4623</th>\n",
       "      <td>UGC12856</td>\n",
       "      <td>_dbar</td>\n",
       "      <td>5</td>\n",
       "      <td>D</td>\n",
       "      <td>9.080</td>\n",
       "      <td>IB</td>\n",
       "      <td>9.6</td>\n",
       "      <td>90.00</td>\n",
       "    </tr>\n",
       "    <tr>\n",
       "      <th>4625</th>\n",
       "      <td>UGC12857</td>\n",
       "      <td>_zzn</td>\n",
       "      <td>4</td>\n",
       "      <td>Z</td>\n",
       "      <td>10.005</td>\n",
       "      <td>Sbc</td>\n",
       "      <td>4.0</td>\n",
       "      <td>90.00</td>\n",
       "    </tr>\n",
       "    <tr>\n",
       "      <th>4628</th>\n",
       "      <td>UGC12893</td>\n",
       "      <td>_bd</td>\n",
       "      <td>5</td>\n",
       "      <td>B</td>\n",
       "      <td>8.991</td>\n",
       "      <td>Sd</td>\n",
       "      <td>8.4</td>\n",
       "      <td>29.49</td>\n",
       "    </tr>\n",
       "  </tbody>\n",
       "</table>\n",
       "<p>2267 rows × 8 columns</p>\n",
       "</div>"
      ],
      "text/plain": [
       "          Name_1     Mod  Q  C   mstar  type  t_1   incl\n",
       "1     ESO011-005     _bz  4  B   9.749   SBc  5.9  83.91\n",
       "3     ESO012-010   _dbar  5  D   9.632   SBd  7.7  26.82\n",
       "5     ESO012-014   _dbar  4  D   9.023   SBm  9.0  90.00\n",
       "7     ESO013-016  _dbarf  5  D   9.564   SBd  7.5  56.71\n",
       "9     ESO015-001   _dbar  5  D   8.806    IB  9.8  90.00\n",
       "...          ...     ... .. ..     ...   ...  ...    ...\n",
       "4621    UGC12791      _d  5  D   8.190     I  9.9  90.00\n",
       "4622    UGC12846      _d  5  D   8.687  SABm  8.7  25.66\n",
       "4623    UGC12856   _dbar  5  D   9.080    IB  9.6  90.00\n",
       "4625    UGC12857    _zzn  4  Z  10.005   Sbc  4.0  90.00\n",
       "4628    UGC12893     _bd  5  B   8.991    Sd  8.4  29.49\n",
       "\n",
       "[2267 rows x 8 columns]"
      ]
     },
     "execution_count": 8,
     "metadata": {},
     "output_type": "execute_result"
    }
   ],
   "source": [
    "s4g_2267\n",
    "# Essa tabela possui apenas uma linha por galáxia, e o motivo dela são as outras colunas:\n",
    "# mstar -- massa estelar da galáxia em log10. Faremos uma análise por corte da massa.\n",
    "# type -- tipo morfológico.\n",
    "# t_1 -- hubble t type\n",
    "# incl -- inclinação da galáxia. Utilizada para o corte da minha amostra pois se a galáxia é muito inclinada\n",
    "# torna-se difícil dizer se de fato há uma barra nela."
   ]
  },
  {
   "cell_type": "markdown",
   "id": "4a8b6ffb-2e2e-419f-9cf5-e3e63eba9b14",
   "metadata": {},
   "source": [
    "Vamos separar nossa amostra em diferentes cortes de massa e então vamos analisar o tipo morfológico para a amostra como um todo e para os diferentes cortes."
   ]
  },
  {
   "cell_type": "code",
   "execution_count": 9,
   "id": "acdb2cac-dde0-48d8-b9be-f06983464684",
   "metadata": {},
   "outputs": [
    {
     "name": "stdout",
     "output_type": "stream",
     "text": [
      "Número de galáxias anãs (Msun < 10^9):     435 \n",
      "Número de galáxias (10^9 < Msun < 10^10):  963 \n",
      "Número de galáxias (10^10 < Msun):         869\n"
     ]
    },
    {
     "name": "stderr",
     "output_type": "stream",
     "text": [
      "/tmp/ipykernel_21848/1053077280.py:3: UserWarning: Boolean Series key will be reindexed to match DataFrame index.\n",
      "  s4g_m9_m10 = s4g_2267[s4g_2267.mstar >= 9][s4g_2267.mstar < 10]\n"
     ]
    }
   ],
   "source": [
    "#Os cortes de massa\n",
    "s4g_m9 = s4g_2267[s4g_2267.mstar < 9] #massa menor que 10^9 -- galáxias anãs\n",
    "s4g_m9_m10 = s4g_2267[s4g_2267.mstar >= 9][s4g_2267.mstar < 10]\n",
    "s4g_m10 = s4g_2267[s4g_2267.mstar >= 10]\n",
    "\n",
    "print('Número de galáxias anãs (Msun < 10^9): ','  ',len(s4g_m9),\n",
    "      '\\nNúmero de galáxias (10^9 < Msun < 10^10): ', len(s4g_m9_m10),\n",
    "      '\\nNúmero de galáxias (10^10 < Msun): ','      ',len(s4g_m10))"
   ]
  },
  {
   "cell_type": "markdown",
   "id": "6ff511f3-d087-4b51-8bc8-c60e4c0c9e64",
   "metadata": {},
   "source": [
    "## Análise Geral\n",
    "\n",
    "Olhando para todas as galáxias do $S^4G$:\n",
    ". Quantas espirais temos? Quantas possuem barra? -- Amostra completa e diferentes cortes de massa \n",
    "\n",
    ". Histograma do tipo morfológico (type) -- Amostra completa e diferentes cortes de massa \n",
    "\n",
    "Lembrando que SB indica espiral com barra forte e SAB com barra intermediária."
   ]
  },
  {
   "cell_type": "code",
   "execution_count": 10,
   "id": "f1bf4c9e-7c31-4e37-9c17-a935477be516",
   "metadata": {},
   "outputs": [
    {
     "name": "stdout",
     "output_type": "stream",
     "text": [
      "Amostra de 2267 galáxias\n",
      "\n",
      "Em nossa amostra de:  2267 galáxias temos:  2035 galáxias espirais\n",
      "onde:  816 possuem uma barra\n",
      "sendo :  521 são barras fortes\n",
      "\n",
      "Porcentagem de galaxias espirais barradas:  35.995\n",
      "Porcentagem de galaxias espirais SB:  22.982\n",
      "\n",
      "\n"
     ]
    },
    {
     "data": {
      "image/png": "[encoded data removed]",
      "text/plain": [
       "<Figure size 1152x360 with 1 Axes>"
      ]
     },
     "metadata": {
      "needs_background": "light"
     },
     "output_type": "display_data"
    }
   ],
   "source": [
    "analise_espirais(column_type = s4g_2267.type , plot=True)"
   ]
  },
  {
   "cell_type": "markdown",
   "id": "75405fe5-3258-4597-9276-5f6873356708",
   "metadata": {},
   "source": [
    "A maior parte da amostra é de espirais, no entanto vemos uma fração abaixo do esperado para espirais com barra, temos 36% e esperaríamos ~ 65% espirais barradas(i.e., 65% de Vaucouleurs,Menendéz-Delmestre et al. 2007). \n",
    "\n",
    "Esse valor de ~65% considera espirais barradas mais massivas, por isso análise de massa pode nos trazer informações a mais. \n",
    "\n",
    "Será que as barras da nossa amostra $S^4G$ estão mais presentes nas galáxias mais massivas? \n",
    "\n",
    "Vamos seguir a análise  olhando para os cortes de massa."
   ]
  },
  {
   "cell_type": "markdown",
   "id": "0fa45d8a-24d9-4aeb-9173-d4d5def4fece",
   "metadata": {},
   "source": [
    "### 435 galáxias anãs ($M < 10^9 Msun$)"
   ]
  },
  {
   "cell_type": "code",
   "execution_count": 11,
   "id": "6b3b92c5-0aa9-432e-ae61-8deba9919ab7",
   "metadata": {},
   "outputs": [
    {
     "name": "stdout",
     "output_type": "stream",
     "text": [
      "Amostra de 435 galáxias\n",
      "\n",
      "Em nossa amostra de:  435 galáxias temos:  298 galáxias espirais\n",
      "onde:  142 possuem uma barra\n",
      "sendo :  105 são barras fortes\n",
      "\n",
      "Porcentagem de galaxias espirais barradas:  32.644\n",
      "Porcentagem de galaxias espirais SB:  24.138\n",
      "\n",
      "\n"
     ]
    },
    {
     "data": {
      "image/png": "[encoded data removed]",
      "text/plain": [
       "<Figure size 1152x360 with 1 Axes>"
      ]
     },
     "metadata": {
      "needs_background": "light"
     },
     "output_type": "display_data"
    }
   ],
   "source": [
    "analise_espirais(column_type = s4g_m9.type , plot=True)"
   ]
  },
  {
   "cell_type": "markdown",
   "id": "d5ff0084-e8bd-4e9e-8003-7d8873392614",
   "metadata": {},
   "source": [
    "### 963 galáxias ($10^9 Msun < M < 10^{10} Msun$) "
   ]
  },
  {
   "cell_type": "code",
   "execution_count": 12,
   "id": "cd103c38-6146-4107-905e-74948bf05c1f",
   "metadata": {},
   "outputs": [
    {
     "name": "stdout",
     "output_type": "stream",
     "text": [
      "Amostra de 963 galáxias\n",
      "\n",
      "Em nossa amostra de:  963 galáxias temos:  894 galáxias espirais\n",
      "onde:  394 possuem uma barra\n",
      "sendo :  284 são barras fortes\n",
      "\n",
      "Porcentagem de galaxias espirais barradas:  40.914\n",
      "Porcentagem de galaxias espirais SB:  29.491\n",
      "\n",
      "\n"
     ]
    },
    {
     "data": {
      "image/png": "[encoded data removed]",
      "text/plain": [
       "<Figure size 1152x360 with 1 Axes>"
      ]
     },
     "metadata": {
      "needs_background": "light"
     },
     "output_type": "display_data"
    }
   ],
   "source": [
    "analise_espirais(column_type = s4g_m9_m10.type , plot=True)"
   ]
  },
  {
   "cell_type": "markdown",
   "id": "f0506dfa-c2da-41fa-8a82-6439f4a14879",
   "metadata": {},
   "source": [
    "### 869 galáxias ($M > 10^{10} Msun$)"
   ]
  },
  {
   "cell_type": "code",
   "execution_count": 13,
   "id": "05393910-2531-4b7d-b85e-25e234a5eef2",
   "metadata": {},
   "outputs": [
    {
     "name": "stdout",
     "output_type": "stream",
     "text": [
      "Amostra de 869 galáxias\n",
      "\n",
      "Em nossa amostra de:  869 galáxias temos:  843 galáxias espirais\n",
      "onde:  280 possuem uma barra\n",
      "sendo :  132 são barras fortes\n",
      "\n",
      "Porcentagem de galaxias espirais barradas:  32.221\n",
      "Porcentagem de galaxias espirais SB:  15.190\n",
      "\n",
      "\n"
     ]
    },
    {
     "data": {
      "image/png": "[encoded data removed]",
      "text/plain": [
       "<Figure size 1152x360 with 1 Axes>"
      ]
     },
     "metadata": {
      "needs_background": "light"
     },
     "output_type": "display_data"
    }
   ],
   "source": [
    "analise_espirais(column_type = s4g_m10.type , plot=True)"
   ]
  },
  {
   "cell_type": "code",
   "execution_count": 14,
   "id": "83057c97-38dc-49d7-8156-b1cbb67a5684",
   "metadata": {},
   "outputs": [
    {
     "name": "stdout",
     "output_type": "stream",
     "text": [
      "Amostra de 1832 galáxias\n",
      "\n",
      "Em nossa amostra de:  1832 galáxias temos:  1737 galáxias espirais\n",
      "onde:  674 possuem uma barra\n",
      "sendo :  416 são barras fortes\n",
      "\n",
      "Porcentagem de galaxias espirais barradas:  36.790\n",
      "Porcentagem de galaxias espirais SB:  22.707\n",
      "\n",
      "\n"
     ]
    },
    {
     "data": {
      "image/png": "[encoded data removed]",
      "text/plain": [
       "<Figure size 1152x360 with 1 Axes>"
      ]
     },
     "metadata": {
      "needs_background": "light"
     },
     "output_type": "display_data"
    }
   ],
   "source": [
    "s4g_m9m = s4g_2267[s4g_2267.mstar >= 9]\n",
    "analise_espirais(column_type = s4g_m9m.type , plot=True)"
   ]
  },
  {
   "cell_type": "markdown",
   "id": "9b478b0a-0a09-4977-804b-17948a23e299",
   "metadata": {},
   "source": [
    "Considerando que que a porcentagem de barras em espirais na amostra do $S^4G$ seja aproximadamente 36%, vemos que de fato anãs possuem menos barra nas espirais ( 32.6%) e são mais irregulares (tipos I).\n",
    "\n",
    "A amostra de massa intermediária ($10^9 < M < 10^{10}$)  é a que mais possui espirais barradas ( 40.9%). As barras em espirais diminuem ( 32.2%) se olharmos apenas para um corte de massa mais alto ($M > 10^{10}$).\n",
    "\n",
    "Se considerarmos como massivas todas as galáxias com massa $M > 10^9$, a porcentagem de barras em espirais vai para 36.8%, o que é muito pouco acima do valor considerando a amostra total e ainda é bem baixo se considerarmos o valor de ~65%.\n",
    "\n",
    "----\n",
    "\n",
    "Uma inclinação < 65 graus ajuda numa boa determinação de barra na galáxia, pois se ela for muito inclinada fica difícil ter certeza se a componente está presente. \n",
    "\n",
    "Como os tipos morfológicos variam se aplicarmos esse critério na amostra como um todo?"
   ]
  },
  {
   "cell_type": "code",
   "execution_count": 16,
   "id": "74196292-eca3-4765-ad70-b8b3d43a163d",
   "metadata": {},
   "outputs": [
    {
     "name": "stdout",
     "output_type": "stream",
     "text": [
      "          Name_1      Mod  Q  C  mstar  type  t_1   incl\n",
      "3     ESO012-010    _dbar  5  D  9.632   SBd  7.7  26.82\n",
      "7     ESO013-016   _dbarf  5  D  9.564   SBd  7.5  56.71\n",
      "11    ESO026-001   _ndbar  5  D  9.373   SBc  5.9  30.39\n",
      "14    ESO027-001   _bdbar  5  B  9.999   SBc  5.0  36.30\n",
      "19    ESO048-017   _ndbar  5  D  9.202  SBcd  6.9  62.52\n",
      "...          ...      ... .. ..    ...   ...  ...    ...\n",
      "4614    UGC12707  _dbarfn  5  D  9.611   Sbc  3.9  57.72\n",
      "4617    UGC12709    _dbar  5  D  9.528  SABm  8.7  58.74\n",
      "4619    UGC12732    _dbar  5  D  8.703  SABm  8.7  26.57\n",
      "4622    UGC12846       _d  5  D  8.687  SABm  8.7  25.66\n",
      "4628    UGC12893      _bd  5  B  8.991    Sd  8.4  29.49\n",
      "\n",
      "[1013 rows x 8 columns]\n"
     ]
    }
   ],
   "source": [
    "s4g_2267_i65 = s4g_2267[s4g_2267.incl < 65]\n",
    "\n",
    "print(s4g_2267_i65)"
   ]
  },
  {
   "cell_type": "markdown",
   "id": "44bb5cd1-7fb7-46fc-b487-9694f0337556",
   "metadata": {},
   "source": [
    "### Amostra completa considerando o critério de inclinação < 65"
   ]
  },
  {
   "cell_type": "code",
   "execution_count": 17,
   "id": "1d208bae-584f-4e91-a70d-3dfe2404569c",
   "metadata": {},
   "outputs": [
    {
     "name": "stdout",
     "output_type": "stream",
     "text": [
      "Amostra de 1013 galáxias\n",
      "\n",
      "Em nossa amostra de:  1013 galáxias temos:  900 galáxias espirais\n",
      "onde:  378 possuem uma barra\n",
      "sendo :  187 são barras fortes\n",
      "\n",
      "Porcentagem de galaxias espirais barradas:  37.315\n",
      "Porcentagem de galaxias espirais SB:  18.460\n",
      "\n",
      "\n"
     ]
    },
    {
     "data": {
      "image/png": "[encoded data removed]",
      "text/plain": [
       "<Figure size 1152x360 with 1 Axes>"
      ]
     },
     "metadata": {
      "needs_background": "light"
     },
     "output_type": "display_data"
    }
   ],
   "source": [
    "analise_espirais(column_type = s4g_2267_i65.type , plot=True)"
   ]
  },
  {
   "cell_type": "markdown",
   "id": "2da0f47f-0b6c-4548-8b51-5f246187faef",
   "metadata": {},
   "source": [
    "### Amostra com $M > 10^9 Msun$ com critério de inclinação < 65"
   ]
  },
  {
   "cell_type": "code",
   "execution_count": 41,
   "id": "191ae725-3b14-4fd3-981c-a7d05d17e5c5",
   "metadata": {},
   "outputs": [
    {
     "name": "stdout",
     "output_type": "stream",
     "text": [
      "Amostra de 876 galáxias\n",
      "\n",
      "Em nossa amostra de:  876 galáxias temos:  820 galáxias espirais\n",
      "onde:  341 possuem uma barra\n",
      "sendo :  173 são barras fortes\n",
      "\n",
      "Porcentagem de galaxias espirais barradas:  38.927\n",
      "Porcentagem de galaxias espirais SB:  19.749\n",
      "\n",
      "\n"
     ]
    },
    {
     "data": {
      "image/png": "[encoded data removed]",
      "text/plain": [
       "<Figure size 1152x360 with 1 Axes>"
      ]
     },
     "metadata": {
      "needs_background": "light"
     },
     "output_type": "display_data"
    }
   ],
   "source": [
    "s4g_2267_i65_m9m = s4g_2267_i65[s4g_2267_i65.mstar >= 9]\n",
    "analise_espirais(column_type = s4g_2267_i65_m9m.type , plot=True)"
   ]
  },
  {
   "cell_type": "markdown",
   "id": "f9c3dc9b-4f94-4342-aa6f-4f515aabb840",
   "metadata": {},
   "source": [
    "Vemos que o valor aumenta porém muito pouco. Olhando para as espirais massivas ($M > 10^9 Msun$) vemos que 39% possuem barra, o que ainda é bem menor do que o valor esperado ( ~65%)."
   ]
  },
  {
   "cell_type": "markdown",
   "id": "85181363-0c99-4a2e-af18-3d05f697de8c",
   "metadata": {},
   "source": [
    "## Amostra de galáxias que possuem barra na decomposição -- Salo et al. 2015\n",
    "\n",
    "Motivação: Em Salo et al. 2015 temos: \"Note that “barred”/“non-barred” refers here to whether or not a bar component was included to the the ﬁnal decomposition model, not to any morphological classiﬁcation; for example a non-barred BD model has been adopted for NGC 5985, which has a SAB family classiﬁcation\", que é a última frase da \"5. DECOMPOSITION PARAMETERS\". \n",
    "\n",
    "Isso nos gera perguntas: Olhando para as galáxias que possuem barra em sua decomposição, quantas são de fato espirais barradas? O quanto de barras a decomposição recupera? \n",
    "\n",
    "----\n",
    "\n",
    "Seguimos então com nossa análise, agora olhando apenas para galáxias com componente barra em sua decomposição.\n",
    "\n",
    ". Tipo morfologico para diferentes cortes de massa -- Todas galaxias nessa amostra possuem barra em sua decomposição, mas quantas são espirais barradas? \n",
    "\n",
    ". Histograma do tipo morfológico (type) "
   ]
  },
  {
   "cell_type": "code",
   "execution_count": 23,
   "id": "f2a270c6-f13f-4e34-9910-7319ab3f498c",
   "metadata": {},
   "outputs": [
    {
     "name": "stdout",
     "output_type": "stream",
     "text": [
      "          Name_1      Mod  Q    C  mstar  type  t_1   incl\n",
      "4     ESO012-010    _dbar  5  BAR  9.632   SBd  7.7  26.82\n",
      "6     ESO012-014    _dbar  4  BAR  9.023   SBm  9.0  90.00\n",
      "8     ESO013-016   _dbarf  5  BAR  9.564   SBd  7.5  56.71\n",
      "10    ESO015-001    _dbar  5  BAR  8.806    IB  9.8  90.00\n",
      "12    ESO026-001   _ndbar  5  BAR  9.373   SBc  5.9  30.39\n",
      "...          ...      ... ..  ...    ...   ...  ...    ...\n",
      "4611    UGC12681   _dbarf  5  BAR  9.043  SBbc  4.2  54.14\n",
      "4615    UGC12707  _dbarfn  5  BAR  9.611   Sbc  3.9  57.72\n",
      "4618    UGC12709    _dbar  5  BAR  9.528  SABm  8.7  58.74\n",
      "4620    UGC12732    _dbar  5  BAR  8.703  SABm  8.7  26.57\n",
      "4624    UGC12856    _dbar  5  BAR  9.080    IB  9.6  90.00\n",
      "\n",
      "[870 rows x 8 columns]\n"
     ]
    }
   ],
   "source": [
    "#Voltamos então para a tabela com uma linha para cada componente. Vamos separar nossa amostra de interesse.\n",
    "\n",
    "mask_bar = 'BAR' == s4g_comps['C'] #Criando uma máscara para as galáxias que possuem comp barra\n",
    "\n",
    "s4g_comps_bar = s4g_comps[mask_bar]\n",
    "print(s4g_comps_bar)"
   ]
  },
  {
   "cell_type": "code",
   "execution_count": 40,
   "id": "7e21e9f4-e557-4e0c-a3f0-828fc720e870",
   "metadata": {},
   "outputs": [
    {
     "name": "stdout",
     "output_type": "stream",
     "text": [
      "Amostra de 870 galáxias\n",
      "\n",
      "Em nossa amostra de:  870 galáxias temos:  835 galáxias espirais\n",
      "onde:  408 possuem uma barra\n",
      "sendo :  291 são barras fortes\n",
      "\n",
      "Porcentagem de galaxias espirais barradas:  46.897\n",
      "Porcentagem de galaxias espirais SB:  33.448\n",
      "\n",
      "\n"
     ]
    },
    {
     "data": {
      "image/png": "[encoded data removed]",
      "text/plain": [
       "<Figure size 1152x360 with 1 Axes>"
      ]
     },
     "metadata": {
      "needs_background": "light"
     },
     "output_type": "display_data"
    }
   ],
   "source": [
    "analise_espirais(column_type = s4g_comps_bar.type , plot=True)"
   ]
  },
  {
   "cell_type": "markdown",
   "id": "5de44c5e-f886-49b0-a195-8d2dcbe6c16f",
   "metadata": {},
   "source": [
    "Menos de 50% das galáxias com componente barra em sua decomposição são espirais barradas... \n",
    "\n",
    "Como essa fração se comporta ao olharmos para diferentes cortes de massa? Será que temos mais espirais barradas se olharmos para galáxias de maior massa?"
   ]
  },
  {
   "cell_type": "code",
   "execution_count": 25,
   "id": "10740fc9-7922-4673-9864-065670c934d8",
   "metadata": {},
   "outputs": [
    {
     "name": "stderr",
     "output_type": "stream",
     "text": [
      "/tmp/ipykernel_21848/1393710324.py:3: UserWarning: Boolean Series key will be reindexed to match DataFrame index.\n",
      "  s4g_m9_m10_bar = s4g_comps_bar[s4g_comps_bar.mstar >= 9][s4g_comps_bar.mstar < 10]\n"
     ]
    }
   ],
   "source": [
    "#Os cortes de massa\n",
    "s4g_m9_bar = s4g_comps_bar[s4g_comps_bar.mstar < 9] #massa menor que 10^9 -- galáxias anãs\n",
    "s4g_m9_m10_bar = s4g_comps_bar[s4g_comps_bar.mstar >= 9][s4g_comps_bar.mstar < 10]\n",
    "s4g_m10_bar = s4g_comps_bar[s4g_comps_bar.mstar >= 10]"
   ]
  },
  {
   "cell_type": "markdown",
   "id": "8c19cb2b-429d-441f-89af-49a538f0c8e1",
   "metadata": {},
   "source": [
    "### 71 galáxias anãs ($M < 10^9 Msun$)"
   ]
  },
  {
   "cell_type": "code",
   "execution_count": 39,
   "id": "d8052c74-17cd-4fd7-a159-03e66aca1a84",
   "metadata": {},
   "outputs": [
    {
     "name": "stdout",
     "output_type": "stream",
     "text": [
      "Amostra de 71 galáxias\n",
      "\n",
      "Em nossa amostra de:  71 galáxias temos:  62 galáxias espirais\n",
      "onde:  44 possuem uma barra\n",
      "sendo :  35 são barras fortes\n",
      "\n",
      "Porcentagem de galaxias espirais barradas:  61.972\n",
      "Porcentagem de galaxias espirais SB:  49.296\n",
      "\n",
      "\n"
     ]
    },
    {
     "data": {
      "image/png": "[encoded data removed]",
      "text/plain": [
       "<Figure size 1152x360 with 1 Axes>"
      ]
     },
     "metadata": {
      "needs_background": "light"
     },
     "output_type": "display_data"
    }
   ],
   "source": [
    "analise_espirais(column_type = s4g_m9_bar.type , plot=True)"
   ]
  },
  {
   "cell_type": "markdown",
   "id": "7b5972ee-d7f5-4be1-a933-b60fe5c4dfaf",
   "metadata": {},
   "source": [
    "### 446 galáxias ($10^9 Msun < M < 10^{10} Msun$) "
   ]
  },
  {
   "cell_type": "code",
   "execution_count": 27,
   "id": "bd84355e-e311-456e-b93e-170f3eebe33c",
   "metadata": {},
   "outputs": [
    {
     "name": "stdout",
     "output_type": "stream",
     "text": [
      "Amostra de 446 galáxias\n",
      "\n",
      "Em nossa amostra de:  446 galáxias temos:  422 galáxias espirais\n",
      "onde:  227 possuem uma barra\n",
      "sendo :  177 são barras fortes\n",
      "\n",
      "Porcentagem de galaxias espirais barradas:  50.897\n",
      "Porcentagem de galaxias espirais SB:  39.686\n",
      "\n",
      "\n"
     ]
    },
    {
     "data": {
      "image/png": "[encoded data removed]",
      "text/plain": [
       "<Figure size 1152x360 with 1 Axes>"
      ]
     },
     "metadata": {
      "needs_background": "light"
     },
     "output_type": "display_data"
    }
   ],
   "source": [
    "analise_espirais(column_type = s4g_m9_m10_bar.type , plot=True)"
   ]
  },
  {
   "cell_type": "markdown",
   "id": "aee18b42-5856-4f3f-8be1-db3e28c7769b",
   "metadata": {},
   "source": [
    "### 353 galáxias ($M > 10^{10} Msun$)"
   ]
  },
  {
   "cell_type": "code",
   "execution_count": 28,
   "id": "c6c98206-00e3-4bab-8957-489007efad1a",
   "metadata": {
    "tags": []
   },
   "outputs": [
    {
     "name": "stdout",
     "output_type": "stream",
     "text": [
      "Amostra de 353 galáxias\n",
      "\n",
      "Em nossa amostra de:  353 galáxias temos:  351 galáxias espirais\n",
      "onde:  137 possuem uma barra\n",
      "sendo :  79 são barras fortes\n",
      "\n",
      "Porcentagem de galaxias espirais barradas:  38.810\n",
      "Porcentagem de galaxias espirais SB:  22.380\n",
      "\n",
      "\n"
     ]
    },
    {
     "data": {
      "image/png": "[encoded data removed]",
      "text/plain": [
       "<Figure size 1152x360 with 1 Axes>"
      ]
     },
     "metadata": {
      "needs_background": "light"
     },
     "output_type": "display_data"
    }
   ],
   "source": [
    "analise_espirais(column_type = s4g_m10_bar.type , plot=True)"
   ]
  },
  {
   "cell_type": "markdown",
   "id": "aa66a05e-d25e-4962-a07b-cc3a8046aed3",
   "metadata": {},
   "source": [
    "### Massivas"
   ]
  },
  {
   "cell_type": "code",
   "execution_count": 29,
   "id": "3ad91a83-5551-4c49-870f-ccf58eceef13",
   "metadata": {},
   "outputs": [
    {
     "name": "stdout",
     "output_type": "stream",
     "text": [
      "Amostra de 799 galáxias\n",
      "\n",
      "Em nossa amostra de:  799 galáxias temos:  773 galáxias espirais\n",
      "onde:  364 possuem uma barra\n",
      "sendo :  256 são barras fortes\n",
      "\n",
      "Porcentagem de galaxias espirais barradas:  45.557\n",
      "Porcentagem de galaxias espirais SB:  32.040\n",
      "\n",
      "\n"
     ]
    },
    {
     "data": {
      "image/png": "[encoded data removed]",
      "text/plain": [
       "<Figure size 1152x360 with 1 Axes>"
      ]
     },
     "metadata": {
      "needs_background": "light"
     },
     "output_type": "display_data"
    }
   ],
   "source": [
    "s4g_m9m_bar = s4g_comps_bar[s4g_comps_bar.mstar >= 9]\n",
    "analise_espirais(column_type = s4g_m9m_bar.type , plot=True)"
   ]
  },
  {
   "cell_type": "markdown",
   "id": "cdcb15af-f585-4fbe-a85a-e3866b45ed92",
   "metadata": {},
   "source": [
    "Então, olhando para as galáxias que possuem barra em sua decomposição, se considerarmos as massivas $M > 10^9 Msun$, vemos que em 45.6% das espirais massivas a barra é recuperada com a decomposição. \n",
    "\n",
    "Considerando a inclinação < 65 e ainda olhando para as massivas:"
   ]
  },
  {
   "cell_type": "code",
   "execution_count": 30,
   "id": "7bba9a50-af87-4920-bc6b-5f4067160b0a",
   "metadata": {},
   "outputs": [
    {
     "name": "stdout",
     "output_type": "stream",
     "text": [
      "          Name_1      Mod  Q    C  mstar  type  t_1   incl\n",
      "4     ESO012-010    _dbar  5  BAR  9.632   SBd  7.7  26.82\n",
      "8     ESO013-016   _dbarf  5  BAR  9.564   SBd  7.5  56.71\n",
      "12    ESO026-001   _ndbar  5  BAR  9.373   SBc  5.9  30.39\n",
      "16    ESO027-001   _bdbar  5  BAR  9.999   SBc  5.0  36.30\n",
      "20    ESO048-017   _ndbar  5  BAR  9.202  SBcd  6.9  62.52\n",
      "...          ...      ... ..  ...    ...   ...  ...    ...\n",
      "4593    UGC12151    _dbar  5  BAR  9.314    IB  9.7  51.43\n",
      "4611    UGC12681   _dbarf  5  BAR  9.043  SBbc  4.2  54.14\n",
      "4615    UGC12707  _dbarfn  5  BAR  9.611   Sbc  3.9  57.72\n",
      "4618    UGC12709    _dbar  5  BAR  9.528  SABm  8.7  58.74\n",
      "4620    UGC12732    _dbar  5  BAR  8.703  SABm  8.7  26.57\n",
      "\n",
      "[477 rows x 8 columns]\n"
     ]
    }
   ],
   "source": [
    "s4g_comps_bar_i65 = s4g_comps_bar[s4g_comps_bar.incl < 65]\n",
    "\n",
    "print(s4g_comps_bar_i65)"
   ]
  },
  {
   "cell_type": "code",
   "execution_count": 31,
   "id": "372ef63c-7937-44f6-9972-bdef946b04b9",
   "metadata": {},
   "outputs": [
    {
     "name": "stdout",
     "output_type": "stream",
     "text": [
      "Amostra de 477 galáxias\n",
      "\n",
      "Em nossa amostra de:  477 galáxias temos:  461 galáxias espirais\n",
      "onde:  211 possuem uma barra\n",
      "sendo :  135 são barras fortes\n",
      "\n",
      "Porcentagem de galaxias espirais barradas:  44.235\n",
      "Porcentagem de galaxias espirais SB:  28.302\n",
      "\n",
      "\n"
     ]
    },
    {
     "data": {
      "image/png": "[encoded data removed]",
      "text/plain": [
       "<Figure size 1152x360 with 1 Axes>"
      ]
     },
     "metadata": {
      "needs_background": "light"
     },
     "output_type": "display_data"
    }
   ],
   "source": [
    "analise_espirais(column_type = s4g_comps_bar_i65.type , plot=True)"
   ]
  },
  {
   "cell_type": "markdown",
   "id": "c78650c5-fa94-42fa-b861-b35f3dfb60cc",
   "metadata": {},
   "source": [
    "Continuamos recuperando poucas barras na decomposição para espirais barradas.\n",
    "\n",
    "---- \n",
    "\n",
    "Por último, vamos olhar para a amostra de galáxias que uso para estudar distribuição de massa.\n",
    "\n",
    "## Análise nas galáxias que estudamos a distribuição de massa\n",
    "\n",
    "Essa amostra é bem menor e possui alguns cortes: inclinação < 65 (caracterizar bem a barra -- galáxias muito inclinadas dificultam a determinação de uma barra), possuir barra na decomposição, qualidade de decomposição = 5 (alguns fatores podem afetar a decomposição -- ex: objetos na frente da galáxia). \n",
    "\n",
    ". Tipo morfologico para diferentes cortes de massa -- Além de todas galáxias possuirem componente barra nessa amostra, elas tem boa qualidade de decomposição e inclinação ideal para uma boa determinação da barra. Quantas nessa amostra são espirais barradas?\n",
    "\n",
    ". Histograma do tipo morfológico (type) -- Amostra completa e diferentes cortes de massa "
   ]
  },
  {
   "cell_type": "code",
   "execution_count": 32,
   "id": "5e07c19f-d476-46c4-9b92-9cd922342388",
   "metadata": {},
   "outputs": [
    {
     "name": "stdout",
     "output_type": "stream",
     "text": [
      "          Name_1      Mod  Q    C  mstar  type  t_1   incl\n",
      "4     ESO012-010    _dbar  5  BAR  9.632   SBd  7.7  26.82\n",
      "8     ESO013-016   _dbarf  5  BAR  9.564   SBd  7.5  56.71\n",
      "12    ESO026-001   _ndbar  5  BAR  9.373   SBc  5.9  30.39\n",
      "16    ESO027-001   _bdbar  5  BAR  9.999   SBc  5.0  36.30\n",
      "20    ESO048-017   _ndbar  5  BAR  9.202  SBcd  6.9  62.52\n",
      "...          ...      ... ..  ...    ...   ...  ...    ...\n",
      "4593    UGC12151    _dbar  5  BAR  9.314    IB  9.7  51.43\n",
      "4611    UGC12681   _dbarf  5  BAR  9.043  SBbc  4.2  54.14\n",
      "4615    UGC12707  _dbarfn  5  BAR  9.611   Sbc  3.9  57.72\n",
      "4618    UGC12709    _dbar  5  BAR  9.528  SABm  8.7  58.74\n",
      "4620    UGC12732    _dbar  5  BAR  8.703  SABm  8.7  26.57\n",
      "\n",
      "[461 rows x 8 columns]\n"
     ]
    }
   ],
   "source": [
    "#Vamos fazer o corte de qualidade 5 e inclinação nas galáxias barradas\n",
    "\n",
    "s4g_comps_bar_i65_q5 = s4g_comps_bar_i65[s4g_comps_bar_i65.Q == 5]\n",
    "\n",
    "print(s4g_comps_bar_i65_q5)"
   ]
  },
  {
   "cell_type": "markdown",
   "id": "2460859e-a6a6-4532-ae39-b63c50f759c9",
   "metadata": {},
   "source": [
    "Minha amostra é um pouco menor que 461 galáxias devido ao corte de \"possuir valor de distância\" que é aplicado depois. Para nossa atual análise, esse corte não é necessário, então irei considerar essa amostra um pouco maior."
   ]
  },
  {
   "cell_type": "code",
   "execution_count": 42,
   "id": "a50e9590-417f-487d-aa52-8a500bb20c94",
   "metadata": {},
   "outputs": [
    {
     "name": "stdout",
     "output_type": "stream",
     "text": [
      "Amostra de 461 galáxias\n",
      "\n",
      "Em nossa amostra de:  461 galáxias temos:  446 galáxias espirais\n",
      "onde:  204 possuem uma barra\n",
      "sendo :  130 são barras fortes\n",
      "\n",
      "Porcentagem de galaxias espirais barradas:  44.252\n",
      "Porcentagem de galaxias espirais SB:  28.200\n",
      "\n",
      "\n"
     ]
    },
    {
     "data": {
      "image/png": "[encoded data removed]",
      "text/plain": [
       "<Figure size 1152x360 with 1 Axes>"
      ]
     },
     "metadata": {
      "needs_background": "light"
     },
     "output_type": "display_data"
    }
   ],
   "source": [
    "analise_espirais(column_type = s4g_comps_bar_i65_q5.type , plot=True)"
   ]
  },
  {
   "cell_type": "code",
   "execution_count": 43,
   "id": "9e2cb3c7-40c5-4429-9d24-0cf9af5ba370",
   "metadata": {},
   "outputs": [
    {
     "name": "stderr",
     "output_type": "stream",
     "text": [
      "/tmp/ipykernel_21848/332559215.py:3: UserWarning: Boolean Series key will be reindexed to match DataFrame index.\n",
      "  s4g_m9_m10_bar_i65_q5 = s4g_comps_bar_i65_q5[s4g_comps_bar_i65_q5.mstar >= 9][s4g_comps_bar.mstar < 10]\n"
     ]
    }
   ],
   "source": [
    "#Os cortes de massa\n",
    "s4g_m9_bar_i65_q5 = s4g_comps_bar_i65_q5[s4g_comps_bar_i65_q5.mstar < 9] #massa menor que 10^9 -- galáxias anãs\n",
    "s4g_m9_m10_bar_i65_q5 = s4g_comps_bar_i65_q5[s4g_comps_bar_i65_q5.mstar >= 9][s4g_comps_bar.mstar < 10]\n",
    "s4g_m10_bar_i65_q5 = s4g_comps_bar_i65_q5[s4g_comps_bar_i65_q5.mstar >= 10]"
   ]
  },
  {
   "cell_type": "markdown",
   "id": "3431ff32-2895-48de-b512-2380e9b2597f",
   "metadata": {},
   "source": [
    "### 15 galáxias anãs ($M < 10^9 Msun$)"
   ]
  },
  {
   "cell_type": "code",
   "execution_count": 44,
   "id": "e0bdeb5d-f8bc-487c-940c-2943fefa553d",
   "metadata": {},
   "outputs": [
    {
     "name": "stdout",
     "output_type": "stream",
     "text": [
      "Amostra de 15 galáxias\n",
      "\n",
      "Em nossa amostra de:  15 galáxias temos:  14 galáxias espirais\n",
      "onde:  8 possuem uma barra\n",
      "sendo :  4 são barras fortes\n",
      "\n",
      "Porcentagem de galaxias espirais barradas:  53.333\n",
      "Porcentagem de galaxias espirais SB:  26.667\n",
      "\n",
      "\n"
     ]
    },
    {
     "data": {
      "image/png": "[encoded data removed]",
      "text/plain": [
       "<Figure size 1152x360 with 1 Axes>"
      ]
     },
     "metadata": {
      "needs_background": "light"
     },
     "output_type": "display_data"
    }
   ],
   "source": [
    "analise_espirais(column_type = s4g_m9_bar_i65_q5.type , plot=True)"
   ]
  },
  {
   "cell_type": "markdown",
   "id": "39c50811-ffd8-48fc-b340-7c086a0d3270",
   "metadata": {},
   "source": [
    "### 224 galáxias ($10^9 Msun < M < 10^{10} Msun$) "
   ]
  },
  {
   "cell_type": "code",
   "execution_count": 45,
   "id": "767287e3-88ee-4f08-a93b-221d2b5d506b",
   "metadata": {},
   "outputs": [
    {
     "name": "stdout",
     "output_type": "stream",
     "text": [
      "Amostra de 224 galáxias\n",
      "\n",
      "Em nossa amostra de:  224 galáxias temos:  210 galáxias espirais\n",
      "onde:  114 possuem uma barra\n",
      "sendo :  77 são barras fortes\n",
      "\n",
      "Porcentagem de galaxias espirais barradas:  50.893\n",
      "Porcentagem de galaxias espirais SB:  34.375\n",
      "\n",
      "\n"
     ]
    },
    {
     "data": {
      "image/png": "[encoded data removed]",
      "text/plain": [
       "<Figure size 1152x360 with 1 Axes>"
      ]
     },
     "metadata": {
      "needs_background": "light"
     },
     "output_type": "display_data"
    }
   ],
   "source": [
    "analise_espirais(column_type = s4g_m9_m10_bar_i65_q5.type , plot=True)"
   ]
  },
  {
   "cell_type": "markdown",
   "id": "2314a493-28ae-48cf-99c2-5529263f21aa",
   "metadata": {},
   "source": [
    "### 222 galáxias ($M > 10^{10} Msun$)"
   ]
  },
  {
   "cell_type": "code",
   "execution_count": 46,
   "id": "79848de5-07db-44df-ad5d-d73bf8bce986",
   "metadata": {},
   "outputs": [
    {
     "name": "stdout",
     "output_type": "stream",
     "text": [
      "Amostra de 222 galáxias\n",
      "\n",
      "Em nossa amostra de:  222 galáxias temos:  222 galáxias espirais\n",
      "onde:  82 possuem uma barra\n",
      "sendo :  49 são barras fortes\n",
      "\n",
      "Porcentagem de galaxias espirais barradas:  36.937\n",
      "Porcentagem de galaxias espirais SB:  22.072\n",
      "\n",
      "\n"
     ]
    },
    {
     "data": {
      "image/png": "[encoded data removed]",
      "text/plain": [
       "<Figure size 1152x360 with 1 Axes>"
      ]
     },
     "metadata": {
      "needs_background": "light"
     },
     "output_type": "display_data"
    }
   ],
   "source": [
    "analise_espirais(column_type = s4g_m10_bar_i65_q5.type , plot=True)"
   ]
  },
  {
   "cell_type": "markdown",
   "id": "b0050541-4cc4-4c87-91fb-0742a95245fa",
   "metadata": {},
   "source": [
    "### Amostra massiva M > 10^9 Msun"
   ]
  },
  {
   "cell_type": "code",
   "execution_count": 47,
   "id": "075f8e1a-e08b-488a-b153-767692b4e537",
   "metadata": {},
   "outputs": [
    {
     "name": "stdout",
     "output_type": "stream",
     "text": [
      "Amostra de 446 galáxias\n",
      "\n",
      "Em nossa amostra de:  446 galáxias temos:  432 galáxias espirais\n",
      "onde:  196 possuem uma barra\n",
      "sendo :  126 são barras fortes\n",
      "\n",
      "Porcentagem de galaxias espirais barradas:  43.946\n",
      "Porcentagem de galaxias espirais SB:  28.251\n",
      "\n",
      "\n"
     ]
    },
    {
     "data": {
      "image/png": "[encoded data removed]",
      "text/plain": [
       "<Figure size 1152x360 with 1 Axes>"
      ]
     },
     "metadata": {
      "needs_background": "light"
     },
     "output_type": "display_data"
    }
   ],
   "source": [
    "s4g_m9m_bar_i65_q5 = s4g_comps_bar_i65_q5[s4g_comps_bar_i65_q5.mstar >= 9]\n",
    "analise_espirais(column_type = s4g_m9m_bar_i65_q5.type , plot=True)"
   ]
  },
  {
   "cell_type": "markdown",
   "id": "8c9e1fa0-079e-4309-bee5-9e1181da8670",
   "metadata": {},
   "source": [
    "Com isso vemos de uma forma geral que as barras são melhor recuperadas em espirais barradas com massa intermediária para baixa. Talvez em espirais de maior massa, componentes bojo acabem se ajustando melhor. \n",
    "\n",
    "Considerando que a decomposição utilizou GALFIT (e este ajusta equações ao perfil de brilho da componente) e foi feita para um número grande de galáxia, provavelmente a equipe preferil ajustar bem o modelo com os perfis de brilho que pareciam combinar melhor e acabaram não analisando tão detalhadamente se isso fazia sentido com a classificação do tipo morfológico. \n",
    "\n",
    "----\n",
    "\n",
    "### Respondendo algumas questões importantes\n",
    " \n",
    "- Ao fazer essa análise sabemos quantas barras recuperamos com a decomposição. Nem toda galáxia com componente barra possui barra? Temos componente barra em galáxias com tipo morfológico que não esperaríamos uma barra? O quanto a componente barra na decomposição é de fato fiel a galáxia possuir ou não barra? \n",
    "\n",
    "Olhando para galáxias com componente barra e considerando o critério de inclinação, 44% são espirais barradas massivas. \n",
    "\n",
    "Cerca de 50% das galáxias com componente barra de fato possuem uma barra em seu tipo morfológico.\n",
    "\n",
    "\n",
    "- Estamos ficando mais com as SB?\n",
    "\n",
    "Em boa parte dos casos vemos que as SB são maioria das espirais barradas, o que era esperado já que são barras mais fortes.\n",
    "\n",
    "----\n",
    "\n",
    "Como mencionado, o tipo morfológico foi feito ótico e a decomposição no Mid-IR. Provavelmente o tipo morfológico não iria mudar muito, talvez influenciasse de alguma forma. \n",
    "\n",
    "Essa análise poderia se estender e analisar o Hubble T Type e possivelmente poderia encontrar resultados um pouco diferentes. Inclusive poderiamos refazer a mesma análise, porém excluindo o tipo S0 (lenticulares) das espirais. "
   ]
  }
 ],
 "metadata": {
  "kernelspec": {
   "display_name": "Python 3 (ipykernel)",
   "language": "python",
   "name": "python3"
  },
  "language_info": {
   "codemirror_mode": {
    "name": "ipython",
    "version": 3
   },
   "file_extension": ".py",
   "mimetype": "text/x-python",
   "name": "python",
   "nbconvert_exporter": "python",
   "pygments_lexer": "ipython3",
   "version": "3.8.10"
  }
 },
 "nbformat": 4,
 "nbformat_minor": 5
}
